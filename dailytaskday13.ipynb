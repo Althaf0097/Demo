{
  "nbformat": 4,
  "nbformat_minor": 0,
  "metadata": {
    "colab": {
      "provenance": [],
      "include_colab_link": true
    },
    "kernelspec": {
      "name": "python3",
      "display_name": "Python 3"
    },
    "language_info": {
      "name": "python"
    }
  },
  "cells": [
    {
      "cell_type": "markdown",
      "metadata": {
        "id": "view-in-github",
        "colab_type": "text"
      },
      "source": [
        "<a href=\"https://colab.research.google.com/github/Althaf0097/Demo/blob/main/dailytaskday13.ipynb\" target=\"_parent\"><img src=\"https://colab.research.google.com/assets/colab-badge.svg\" alt=\"Open In Colab\"/></a>"
      ]
    },
    {
      "cell_type": "markdown",
      "source": [
        "1. Take input of age of 3 people by user and determine oldest and\n",
        "youngest among them."
      ],
      "metadata": {
        "id": "k6DQM_H2KLd0"
      }
    },
    {
      "cell_type": "code",
      "source": [
        "a=int(input(\"enter age of first person: \"))\n",
        "b=int(input(\"enter age of second person: \"))\n",
        "c=int(input(\"enter age of third person: \"))\n",
        "if a>b and a>c:\n",
        "    print(\"First person is oldest\")\n",
        "elif b>a and b>c:\n",
        "    print(\"Second person is oldest\")\n",
        "else:\n",
        "    print(\"Third person is oldest\")"
      ],
      "metadata": {
        "colab": {
          "base_uri": "https://localhost:8080/"
        },
        "id": "_Aiqjhr6K_CM",
        "outputId": "4d507593-cda4-467e-eec3-f65bc264979c"
      },
      "execution_count": null,
      "outputs": [
        {
          "output_type": "stream",
          "name": "stdout",
          "text": [
            "enter age of first person: 12\n",
            "enter age of second person: 65\n",
            "enter age of third person: 25\n",
            "Second person is oldest\n"
          ]
        }
      ]
    },
    {
      "cell_type": "markdown",
      "source": [
        "2. Write a program that asks the user for their exam score and\n",
        "calculates their grade based on the following conditions:\n",
        "a. A score of 90 or above is an A.\n",
        "b. A score between 80 and 89 is a B.\n",
        "c. A score between 70 and 79 is a C.\n",
        "d. A score below 70 is an F.\n"
      ],
      "metadata": {
        "id": "tfxrZrx-KvTM"
      }
    },
    {
      "cell_type": "markdown",
      "source": [],
      "metadata": {
        "id": "C7YZ8BI0Kqh0"
      }
    },
    {
      "cell_type": "code",
      "source": [
        "mark=int(input(\"Enter your mark: \"))\n",
        "if mark>=90:\n",
        "    print(\"Your grade is A\")\n",
        "elif mark>=80 and mark<=89:\n",
        "    print(\"Your grade is B\")\n",
        "elif mark>=70 and mark<=79:\n",
        "    print(\"Your grade is C\")\n",
        "else:\n",
        "    print(\"Your grade is F\")"
      ],
      "metadata": {
        "colab": {
          "base_uri": "https://localhost:8080/"
        },
        "id": "C7LZYwI4KV23",
        "outputId": "8083d396-4c6b-4d92-d90e-c9cb45497c11"
      },
      "execution_count": null,
      "outputs": [
        {
          "output_type": "stream",
          "name": "stdout",
          "text": [
            "Enter your mark: 89\n",
            "Your grade is B\n"
          ]
        }
      ]
    },
    {
      "cell_type": "markdown",
      "source": [
        "3. Create a program that asks the user for a list of grocery items they\n",
        "need to buy and organizes the list alphabetically."
      ],
      "metadata": {
        "id": "v1dOPn0hLcrs"
      }
    },
    {
      "cell_type": "code",
      "source": [
        "items = input(\"Enter grocery items separated by commas: \")\n",
        "gro_list = [item.strip() for item in items.split(',')]\n",
        "gro_list.sort()\n",
        "print(\"\\nYour grocery list sorted alphabetically:\")\n",
        "for item in gro_list:\n",
        "    print(item)"
      ],
      "metadata": {
        "colab": {
          "base_uri": "https://localhost:8080/"
        },
        "id": "I7DuJomQLY8k",
        "outputId": "df5c283b-0231-4015-88e9-54fda78c1703"
      },
      "execution_count": null,
      "outputs": [
        {
          "output_type": "stream",
          "name": "stdout",
          "text": [
            "Enter grocery items separated by commas: Milk,Vegetables,Fruits,Biscuits\n",
            "\n",
            "Your grocery list sorted alphabetically:\n",
            "Biscuits\n",
            "Fruits\n",
            "Milk\n",
            "Vegetables\n"
          ]
        }
      ]
    },
    {
      "cell_type": "markdown",
      "source": [
        "4. Write a program that asks the user for an email address and\n",
        "checks if it is valid (contains an \"@\" symbol and a valid domain)."
      ],
      "metadata": {
        "id": "QwbM0ot9NHxV"
      }
    },
    {
      "cell_type": "code",
      "source": [
        "email=  input(\"Enter your email address: \")\n",
        "if \"@\" in email and \".\" in email:\n",
        "    print(\"Valid email address\")\n",
        "else:\n",
        "    print(\"Invalid email address\")"
      ],
      "metadata": {
        "colab": {
          "base_uri": "https://localhost:8080/"
        },
        "id": "1KaJw6E3Luem",
        "outputId": "71038cb6-2289-485b-ad34-f1ecc157fa56"
      },
      "execution_count": null,
      "outputs": [
        {
          "output_type": "stream",
          "name": "stdout",
          "text": [
            "Enter your email address: hellohai@gmail.com\n",
            "Valid email address\n"
          ]
        }
      ]
    },
    {
      "cell_type": "markdown",
      "source": [
        "5. Create a program that asks the user for the number of days they\n",
        "have delayed returning a library book. If the delay is less than or\n",
        "equal to 7 days, there is no fine. If the delay is between 8 and 30\n",
        "days, apply a fine of 2 rupees per day. If the delay is more than\n",
        "30 days, apply a fine of 5 rupees per day. Print the total fine\n",
        "amount."
      ],
      "metadata": {
        "id": "9xDwW51NNrAF"
      }
    },
    {
      "cell_type": "code",
      "source": [
        "days=int(input(\"Enter the number of days you have delayed: \"))\n",
        "if days<=7:\n",
        "  print(\"No fine\")\n",
        "elif days>=8 and days<=30:\n",
        "  print(\"Fine is 2 rupees per day\")\n",
        "  print(\"Total fine amount is \",2*days)\n",
        "else:\n",
        "  print(\"Fine is 5 rupees per day\")\n",
        "  print(\"Total fine amount is \",5*days)\n"
      ],
      "metadata": {
        "colab": {
          "base_uri": "https://localhost:8080/"
        },
        "id": "HZIa2U5oNl_o",
        "outputId": "cf0e9f8d-cf99-414a-e4d7-36e4dfb5b08e"
      },
      "execution_count": null,
      "outputs": [
        {
          "output_type": "stream",
          "name": "stdout",
          "text": [
            "Enter the number of days you have delayed: 45\n",
            "Fine is 5 rupees per day\n",
            "Total fine amount is  225\n"
          ]
        }
      ]
    },
    {
      "cell_type": "markdown",
      "source": [
        "6. Write a program that checks if a given character is a vowel. Use\n",
        "the in operator to check if the character is present in a string of\n",
        "vowels (\"aeiou\")."
      ],
      "metadata": {
        "id": "waUOTkdDPUxN"
      }
    },
    {
      "cell_type": "code",
      "source": [
        "string=input(\"Enter a character: \")\n",
        "if string in \"aeiou\":\n",
        "    print(\"It is a vowel\")\n",
        "else:\n",
        "    print(\"It is not a vowel\")"
      ],
      "metadata": {
        "colab": {
          "base_uri": "https://localhost:8080/"
        },
        "id": "fYOUK8p9PNxP",
        "outputId": "d7d06e10-a10d-4050-f72d-c3e32aef3abf"
      },
      "execution_count": null,
      "outputs": [
        {
          "output_type": "stream",
          "name": "stdout",
          "text": [
            "Enter a character: a\n",
            "It is a vowel\n"
          ]
        }
      ]
    },
    {
      "cell_type": "markdown",
      "source": [
        "7. Implement a program that calculates the factorial of a number\n",
        "using a loop.\n"
      ],
      "metadata": {
        "id": "bJyqQHc9QER9"
      }
    },
    {
      "cell_type": "code",
      "source": [
        "num=int(input(\"Enter a number: \"))\n",
        "fact=1\n",
        "for i in range(1,num+1):\n",
        "  fact=fact*i\n",
        "print(\"Factorial of\",num,\"is\",fact)"
      ],
      "metadata": {
        "colab": {
          "base_uri": "https://localhost:8080/"
        },
        "id": "n2gUBOGvPo_X",
        "outputId": "88e4ecb5-5270-4fd6-8d81-daeb8708db7d"
      },
      "execution_count": null,
      "outputs": [
        {
          "output_type": "stream",
          "name": "stdout",
          "text": [
            "Enter a number: 5\n",
            "Factorial of 5 is 120\n"
          ]
        }
      ]
    },
    {
      "cell_type": "markdown",
      "source": [
        "8. Generate the Fibonacci sequence (0, 1, 1, 2, 3, ...) up to a certain\n",
        "limit using a loop."
      ],
      "metadata": {
        "id": "blecMw23QaKc"
      }
    },
    {
      "cell_type": "code",
      "source": [
        "limit=int(input(\"Enter the limit: \"))\n",
        "a,b=0,1\n",
        "print(a)\n",
        "while b<=limit:\n",
        "  print(b)\n",
        "  a,b=b,a+b"
      ],
      "metadata": {
        "colab": {
          "base_uri": "https://localhost:8080/"
        },
        "id": "YUa6eLdDQYiu",
        "outputId": "72800792-3ede-474f-8afa-e7169d732031"
      },
      "execution_count": null,
      "outputs": [
        {
          "output_type": "stream",
          "name": "stdout",
          "text": [
            "Enter the limit: 5\n",
            "0\n",
            "1\n",
            "1\n",
            "2\n",
            "3\n",
            "5\n"
          ]
        }
      ]
    },
    {
      "cell_type": "markdown",
      "source": [
        "9. Create a number guessing game where the computer generates a\n",
        "random number and the user has to guess it within a certain\n",
        "number of attempts using a loop."
      ],
      "metadata": {
        "id": "SsLgFa8ZQu1l"
      }
    },
    {
      "cell_type": "code",
      "source": [
        "import random\n",
        "random_number = random.randint(1, 10)\n",
        "attempts = 3\n",
        "for _ in range(attempts):\n",
        "    guess = int(input(\"Guess a number between 1 and 10: \"))\n",
        "    if guess == random_number:\n",
        "        print(\"Congratulations! You guessed the correct number!\")\n",
        "        break\n",
        "    else:\n",
        "        print(\"Wrong guess. Try again!\")\n",
        "if guess != random_number:\n",
        "    print(\"Sorry, the correct number was \",random_number)\n"
      ],
      "metadata": {
        "colab": {
          "base_uri": "https://localhost:8080/"
        },
        "id": "5ocF3EciRFlU",
        "outputId": "409d8420-6b02-4e34-beac-43bfc53a24cd"
      },
      "execution_count": null,
      "outputs": [
        {
          "output_type": "stream",
          "name": "stdout",
          "text": [
            "Guess a number between 1 and 10: 5\n",
            "Wrong guess. Try again!\n",
            "Guess a number between 1 and 10: 3\n",
            "Wrong guess. Try again!\n",
            "Guess a number between 1 and 10: 2\n",
            "Wrong guess. Try again!\n",
            "Sorry, the correct number was  7\n"
          ]
        }
      ]
    },
    {
      "cell_type": "markdown",
      "source": [
        "10. Write a menu driven calculator with following menu:\n",
        "a. Addition\n",
        "b. Subtraction\n",
        "c. Division\n",
        "d. Multiplication\n",
        "e. Exit"
      ],
      "metadata": {
        "id": "aZy2DOAGSxLF"
      }
    },
    {
      "cell_type": "code",
      "source": [
        "# Display the menu\n",
        "print(\"Menu:\")\n",
        "print(\"a. Addition\\nb. Subtraction\\nc. Division\\nd. Multiplication\\ne. Exit\")\n",
        "choice = input(\"Enter your choice (a/b/c/d/e): \")\n",
        "if choice in ('a', 'b', 'c', 'd'):\n",
        "    num1 = float(input(\"Enter the first number: \"))\n",
        "    num2 = float(input(\"Enter the second number: \"))\n",
        "    if choice == 'a':\n",
        "        result = num1 + num2\n",
        "        print(\"The result of addition is: \",result)\n",
        "    elif choice == 'b':\n",
        "        result = num1 - num2\n",
        "        print(\"The result of subtraction is: \",result)\n",
        "    elif choice == 'c':\n",
        "        if num2 == 0:\n",
        "            print(\"Error! Division by zero.\")\n",
        "        else:\n",
        "            result = num1 / num2\n",
        "            print(\"The result of division is: \",result)\n",
        "    elif choice == 'd':\n",
        "        result = num1 * num2\n",
        "        print(\"The result of multiplication is: \",result)\n",
        "elif choice == 'e':\n",
        "    print(\"Exiting the calculator. Goodbye!\")\n",
        "else:\n",
        "    print(\"Invalid choice! Please select a valid option.\")\n"
      ],
      "metadata": {
        "colab": {
          "base_uri": "https://localhost:8080/"
        },
        "id": "EWZk3px7SSvO",
        "outputId": "81c2a8ed-ecee-4a93-a36f-ee2812b779ab"
      },
      "execution_count": null,
      "outputs": [
        {
          "output_type": "stream",
          "name": "stdout",
          "text": [
            "Menu:\n",
            "a. Addition\n",
            "b. Subtraction\n",
            "c. Division\n",
            "d. Multiplication\n",
            "e. Exit\n",
            "Enter your choice (a/b/c/d/e): a\n",
            "Enter the first number: 5\n",
            "Enter the second number: 2\n",
            "The result of addition is:  7.0\n"
          ]
        }
      ]
    },
    {
      "cell_type": "code",
      "source": [],
      "metadata": {
        "id": "o-2iNqbxTkV3"
      },
      "execution_count": null,
      "outputs": []
    }
  ]
}