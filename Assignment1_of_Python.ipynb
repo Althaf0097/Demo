{
  "nbformat": 4,
  "nbformat_minor": 0,
  "metadata": {
    "colab": {
      "provenance": [],
      "authorship_tag": "ABX9TyMX4P2qg/9igoT2tERYZWpp",
      "include_colab_link": true
    },
    "kernelspec": {
      "name": "python3",
      "display_name": "Python 3"
    },
    "language_info": {
      "name": "python"
    }
  },
  "cells": [
    {
      "cell_type": "markdown",
      "metadata": {
        "id": "view-in-github",
        "colab_type": "text"
      },
      "source": [
        "<a href=\"https://colab.research.google.com/github/Althaf0097/Demo/blob/main/Assignment1_of_Python.ipynb\" target=\"_parent\"><img src=\"https://colab.research.google.com/assets/colab-badge.svg\" alt=\"Open In Colab\"/></a>"
      ]
    },
    {
      "cell_type": "markdown",
      "source": [
        "# Python pratical Question 1"
      ],
      "metadata": {
        "id": "jyZu0EUblNys"
      }
    },
    {
      "cell_type": "markdown",
      "source": [
        "1. Write a Python program which accepts the radius of a circle from the user\n",
        "and compute the area.\n",
        "Sample input: Enter the radius: 3\n",
        "Sample output: Area of Circle is 28.59999999999"
      ],
      "metadata": {
        "id": "l1WxVGFIUBoQ"
      }
    },
    {
      "cell_type": "code",
      "execution_count": 1,
      "metadata": {
        "colab": {
          "base_uri": "https://localhost:8080/"
        },
        "id": "vQ0JyYEITz95",
        "outputId": "688dfd4a-c8e3-4598-c64a-84e493036a3c"
      },
      "outputs": [
        {
          "output_type": "stream",
          "name": "stdout",
          "text": [
            "Enter the radius: 5\n",
            "Area of Circle is 78.5\n"
          ]
        }
      ],
      "source": [
        "r =float(input(\"Enter the radius: \"))\n",
        "\n",
        "area = 3.14*r**2\n",
        "\n",
        "print(\"Area of Circle is\",area)\n"
      ]
    },
    {
      "cell_type": "markdown",
      "source": [
        "2. Write a Python Program to accept the details of a student like name, roll\n",
        "number and mark and display it.\n",
        "Sample input: Enter the name: Anisha\n",
        "Enter the roll number: 21\n",
        "Enter the mark: 78\n",
        "Sample output: Name: Anisha\n",
        "Roll No: 21\n",
        "Mark: 78\n"
      ],
      "metadata": {
        "id": "Wp0wZFnaUq4_"
      }
    },
    {
      "cell_type": "code",
      "source": [
        "Name = input(\"Enter the name: \")\n",
        "Roll_No = int(input(\"Enter the roll number: \"))\n",
        "Mark = int(input(\"Enter the mark: \"))\n",
        "\n",
        "print(\"Name:\",Name)\n",
        "print(\"Roll No:\",Roll_No)\n",
        "print(\"Mark:\",Mark)"
      ],
      "metadata": {
        "colab": {
          "base_uri": "https://localhost:8080/"
        },
        "id": "yPXxqLPXUc7t",
        "outputId": "9b7a0820-8bd8-4fff-81b1-99b8dd4fb6f9"
      },
      "execution_count": 2,
      "outputs": [
        {
          "output_type": "stream",
          "name": "stdout",
          "text": [
            "Enter the name: Anisha\n",
            "Enter the roll number: 21\n",
            "Enter the mark: 78\n",
            "Name: Anisha\n",
            "Roll No: 21\n",
            "Mark: 78\n"
          ]
        }
      ]
    },
    {
      "cell_type": "markdown",
      "source": [
        "3. Write a Python program to get the largest number from a list.\n",
        "Sample input: 12, 3, 47, 10\n",
        "Sample output: 47 is the largest number."
      ],
      "metadata": {
        "id": "oUYfVPqBVAAr"
      }
    },
    {
      "cell_type": "code",
      "source": [
        "l = [12,3,47,10]\n",
        "print(max(l),\"is the largest number\")"
      ],
      "metadata": {
        "colab": {
          "base_uri": "https://localhost:8080/"
        },
        "id": "BAiEiPCNVMrt",
        "outputId": "67d18510-51de-465f-91be-db5aaacafc8f"
      },
      "execution_count": 3,
      "outputs": [
        {
          "output_type": "stream",
          "name": "stdout",
          "text": [
            "47 is the largest number\n"
          ]
        }
      ]
    },
    {
      "cell_type": "markdown",
      "source": [
        "4. Given a range of first 10 numbers, write a Python program to iterate from\n",
        "start number to the end number and print the sum of the current number\n",
        "and previous number.\n",
        "Sample input: 1….10\n",
        "Sample output: Current Number 1 Previous Number 0 Sum: 1 Current\n",
        "Number 2 Previous Number 1 Sum: 3 Current Number 3 Previous\n",
        "Number 2 Sum: 5… Current Number 10 Previous Number 9 Sum: 19"
      ],
      "metadata": {
        "id": "DBgjWiB1VjK1"
      }
    },
    {
      "cell_type": "code",
      "source": [
        "pre_num = 0\n",
        "\n",
        "for current_number in range(1, 11):\n",
        "    sum = pre_num + current_number\n",
        "    print(\"Current Number\", current_number, \"Previous Number \", pre_num, \"Sum: \", sum)\n",
        "    pre_num = current_number\n"
      ],
      "metadata": {
        "colab": {
          "base_uri": "https://localhost:8080/"
        },
        "id": "nmMPRmRjVhSl",
        "outputId": "63de1b1a-6290-4ca7-bda0-8ed6e35c299d"
      },
      "execution_count": 5,
      "outputs": [
        {
          "output_type": "stream",
          "name": "stdout",
          "text": [
            "Current Number 1 Previous Number  0 Sum:  1\n",
            "Current Number 2 Previous Number  1 Sum:  3\n",
            "Current Number 3 Previous Number  2 Sum:  5\n",
            "Current Number 4 Previous Number  3 Sum:  7\n",
            "Current Number 5 Previous Number  4 Sum:  9\n",
            "Current Number 6 Previous Number  5 Sum:  11\n",
            "Current Number 7 Previous Number  6 Sum:  13\n",
            "Current Number 8 Previous Number  7 Sum:  15\n",
            "Current Number 9 Previous Number  8 Sum:  17\n",
            "Current Number 10 Previous Number  9 Sum:  19\n"
          ]
        }
      ]
    },
    {
      "cell_type": "markdown",
      "source": [
        "5. Write a Python program to print only those numbers which are divisible\n",
        "of 5.\n",
        "Sample input: 10, 20,33,46,55 Sample output: 10, 20, 55.\n"
      ],
      "metadata": {
        "id": "9dHRAaEFXmoW"
      }
    },
    {
      "cell_type": "code",
      "source": [
        "l1 = [10,20,33,46,55]\n",
        "for i in l1:\n",
        "    if i%5==0:\n",
        "        print(i)"
      ],
      "metadata": {
        "colab": {
          "base_uri": "https://localhost:8080/"
        },
        "id": "S4bBSe2GYFc2",
        "outputId": "0af1554b-9a97-4364-f622-ebce803a6bfe"
      },
      "execution_count": 6,
      "outputs": [
        {
          "output_type": "stream",
          "name": "stdout",
          "text": [
            "10\n",
            "20\n",
            "55\n"
          ]
        }
      ]
    },
    {
      "cell_type": "markdown",
      "source": [
        "6. Write a Python program to check whether a number is prime or not.\n",
        "Sample input: Enter the number: 3\n",
        "Sample output: 3 is a prime number.\n"
      ],
      "metadata": {
        "id": "TlLdcPvkYVzJ"
      }
    },
    {
      "cell_type": "code",
      "source": [
        "number = int(input(\"Enter the number: \"))\n",
        "if number > 1:\n",
        "    for i in range(2, number):\n",
        "        if (number % i) == 0:\n",
        "            print(number, \"is not a prime number\")\n",
        "            break\n",
        "    else:\n",
        "        print(number, \"is a prime number\")"
      ],
      "metadata": {
        "colab": {
          "base_uri": "https://localhost:8080/"
        },
        "id": "sv8q4IYeYf1O",
        "outputId": "8a892962-c308-46c5-d10f-5909ef3eadfa"
      },
      "execution_count": 7,
      "outputs": [
        {
          "output_type": "stream",
          "name": "stdout",
          "text": [
            "Enter the number: 3\n",
            "3 is a prime number\n"
          ]
        }
      ]
    },
    {
      "cell_type": "markdown",
      "source": [
        "7. Write a Python program to reverse a list using for loop.\n",
        "Sample input: 10,40,30,70\n",
        "Sample output: 70,30,40,10"
      ],
      "metadata": {
        "id": "grhe3QGeZDZb"
      }
    },
    {
      "cell_type": "code",
      "source": [
        "l2 = [10,40,30,70]\n",
        "for i in l2[::-1]:\n",
        "    print(i)"
      ],
      "metadata": {
        "colab": {
          "base_uri": "https://localhost:8080/"
        },
        "id": "sQDqvVJxZHdc",
        "outputId": "7675f748-cf20-4a68-8777-a52421d4f02e"
      },
      "execution_count": 9,
      "outputs": [
        {
          "output_type": "stream",
          "name": "stdout",
          "text": [
            "70\n",
            "30\n",
            "40\n",
            "10\n"
          ]
        }
      ]
    },
    {
      "cell_type": "markdown",
      "source": [
        "8. Write a Python program to print the following pattern.\n",
        "###*\n",
        "###**\n",
        "###***\n",
        "###****"
      ],
      "metadata": {
        "id": "l4mzjnWnZ0tx"
      }
    },
    {
      "cell_type": "code",
      "source": [
        "for i in range(1,5):\n",
        "    print(\"*\"*i)"
      ],
      "metadata": {
        "colab": {
          "base_uri": "https://localhost:8080/"
        },
        "id": "yNN2JdV5Z1fo",
        "outputId": "34d4debe-b4cf-4828-f473-08ae8933daf6"
      },
      "execution_count": 10,
      "outputs": [
        {
          "output_type": "stream",
          "name": "stdout",
          "text": [
            "*\n",
            "**\n",
            "***\n",
            "****\n"
          ]
        }
      ]
    },
    {
      "cell_type": "markdown",
      "source": [
        "9. Write a Python program to find the maximum of three numbers\n",
        "Sample input: 34,12,7\n",
        "Sample output: 34"
      ],
      "metadata": {
        "id": "LA8ogUsLbVhj"
      }
    },
    {
      "cell_type": "code",
      "source": [
        "l3 = [34,12,7]\n",
        "print(max(l3))"
      ],
      "metadata": {
        "colab": {
          "base_uri": "https://localhost:8080/"
        },
        "id": "xy-DxBNgbhu1",
        "outputId": "5c6b4d13-b53e-43e2-d803-8ed4d956a935"
      },
      "execution_count": 12,
      "outputs": [
        {
          "output_type": "stream",
          "name": "stdout",
          "text": [
            "34\n"
          ]
        }
      ]
    },
    {
      "cell_type": "markdown",
      "source": [
        "10. Write a Python program to construct the following pattern, using a\n",
        "nested for loop.\n",
        "###*\n",
        "###**\n",
        "###***\n",
        "###****\n",
        "###*****\n",
        "###****\n",
        "###***\n",
        "###**\n",
        "###*"
      ],
      "metadata": {
        "id": "fnq5UQz5brss"
      }
    },
    {
      "cell_type": "code",
      "source": [
        "for i in range(1,6):\n",
        "    print(\"*\"*i)\n",
        "for i in range(4,0,-1):\n",
        "    print(\"*\"*i)"
      ],
      "metadata": {
        "colab": {
          "base_uri": "https://localhost:8080/"
        },
        "id": "LPvZvQ22bqtH",
        "outputId": "a7159ecb-bc6b-4937-d382-5eddef6a16b4"
      },
      "execution_count": 18,
      "outputs": [
        {
          "output_type": "stream",
          "name": "stdout",
          "text": [
            "*\n",
            "**\n",
            "***\n",
            "****\n",
            "*****\n",
            "****\n",
            "***\n",
            "**\n",
            "*\n"
          ]
        }
      ]
    },
    {
      "cell_type": "markdown",
      "source": [
        "# Python Pratical Question 2"
      ],
      "metadata": {
        "id": "WdE224LXl4iR"
      }
    },
    {
      "cell_type": "markdown",
      "source": [
        "1. Write a Python program to accept a string value from the user and display\n",
        "the count of each character in that string. Sample input: Enter a string\n",
        "value: assembly Sample output: a=1, s=2, e=1, m=1, b=1, l=1, y=1"
      ],
      "metadata": {
        "id": "gCtTOBtVmPmm"
      }
    },
    {
      "cell_type": "code",
      "source": [
        "string = input(\"Enter a string value: \")\n",
        "count = {}\n",
        "\n",
        "for char in string:\n",
        "    if char in count:\n",
        "        count[char] += 1\n",
        "    else:\n",
        "        count[char] = 1\n",
        "\n",
        "output = ', '.join([f\"{char}={count[char]}\" for char in count])\n",
        "\n",
        "print(output)\n"
      ],
      "metadata": {
        "colab": {
          "base_uri": "https://localhost:8080/"
        },
        "id": "74sfJCgehgIt",
        "outputId": "dfe3f8af-f698-4ff0-ffaa-19d4e6b9fdc4"
      },
      "execution_count": 21,
      "outputs": [
        {
          "output_type": "stream",
          "name": "stdout",
          "text": [
            "Enter a string value: assamply\n",
            "a=2, s=2, m=1, p=1, l=1, y=1\n"
          ]
        }
      ]
    },
    {
      "cell_type": "markdown",
      "source": [],
      "metadata": {
        "id": "Q9q5RI5pnbjz"
      }
    }
  ]
}